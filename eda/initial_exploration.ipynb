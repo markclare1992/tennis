{
 "cells": [
  {
   "metadata": {},
   "cell_type": "markdown",
   "source": "# Initial Exploration",
   "id": "736d1f92d13d5ed2"
  },
  {
   "metadata": {},
   "cell_type": "markdown",
   "source": "## Imports",
   "id": "2d1caa53b65e33bd"
  },
  {
   "metadata": {
    "ExecuteTime": {
     "end_time": "2024-06-19T07:13:51.082679Z",
     "start_time": "2024-06-19T07:13:51.077699Z"
    }
   },
   "cell_type": "code",
   "source": [
    "import pandas as pd\n",
    "# from fuzzywuzzy import process\n",
    "from collections import defaultdict\n",
    "from rapidfuzz import process"
   ],
   "id": "7a683c74fe797467",
   "outputs": [],
   "execution_count": 51
  },
  {
   "metadata": {},
   "cell_type": "markdown",
   "source": "## Read Data",
   "id": "6f5c039a2780eed7"
  },
  {
   "metadata": {
    "ExecuteTime": {
     "end_time": "2024-06-19T07:13:51.737146Z",
     "start_time": "2024-06-19T07:13:51.377294Z"
    }
   },
   "cell_type": "code",
   "source": [
    "match_info_df = pd.read_csv('//data/match_info.csv')\n",
    "match_outcome_stats_df = pd.read_csv('//data/match_outcome_stats.csv')\n",
    "player_info_df = pd.read_csv('//data/player_info.csv')\n",
    "player_outcome_stats_df = pd.read_csv('//data/player_outcome_stats.csv')"
   ],
   "id": "5f92f782456640df",
   "outputs": [],
   "execution_count": 52
  },
  {
   "metadata": {},
   "cell_type": "markdown",
   "source": "## Match Info",
   "id": "98e12394b2a6332a"
  },
  {
   "metadata": {
    "ExecuteTime": {
     "end_time": "2024-06-19T07:13:51.755734Z",
     "start_time": "2024-06-19T07:13:51.746260Z"
    }
   },
   "cell_type": "code",
   "source": "match_info_df.head()",
   "id": "57111c3e4c33dc1e",
   "outputs": [
    {
     "data": {
      "text/plain": [
       "   match_id  tourney_id tourney_name tourney_date tourney_level surface  \\\n",
       "0         0           0      Orlando   2000-05-01             A    Clay   \n",
       "1         1           0      Orlando   2000-05-01             A    Clay   \n",
       "2         2           0      Orlando   2000-05-01             A    Clay   \n",
       "3         3           0      Orlando   2000-05-01             A    Clay   \n",
       "4         4           0      Orlando   2000-05-01             A    Clay   \n",
       "\n",
       "   match_num  best_of round  \n",
       "0          1      3.0   R32  \n",
       "1          2      3.0   R32  \n",
       "2          3      3.0   R32  \n",
       "3          4      3.0   R32  \n",
       "4          5      3.0   R32  "
      ],
      "text/html": [
       "<div>\n",
       "<style scoped>\n",
       "    .dataframe tbody tr th:only-of-type {\n",
       "        vertical-align: middle;\n",
       "    }\n",
       "\n",
       "    .dataframe tbody tr th {\n",
       "        vertical-align: top;\n",
       "    }\n",
       "\n",
       "    .dataframe thead th {\n",
       "        text-align: right;\n",
       "    }\n",
       "</style>\n",
       "<table border=\"1\" class=\"dataframe\">\n",
       "  <thead>\n",
       "    <tr style=\"text-align: right;\">\n",
       "      <th></th>\n",
       "      <th>match_id</th>\n",
       "      <th>tourney_id</th>\n",
       "      <th>tourney_name</th>\n",
       "      <th>tourney_date</th>\n",
       "      <th>tourney_level</th>\n",
       "      <th>surface</th>\n",
       "      <th>match_num</th>\n",
       "      <th>best_of</th>\n",
       "      <th>round</th>\n",
       "    </tr>\n",
       "  </thead>\n",
       "  <tbody>\n",
       "    <tr>\n",
       "      <th>0</th>\n",
       "      <td>0</td>\n",
       "      <td>0</td>\n",
       "      <td>Orlando</td>\n",
       "      <td>2000-05-01</td>\n",
       "      <td>A</td>\n",
       "      <td>Clay</td>\n",
       "      <td>1</td>\n",
       "      <td>3.0</td>\n",
       "      <td>R32</td>\n",
       "    </tr>\n",
       "    <tr>\n",
       "      <th>1</th>\n",
       "      <td>1</td>\n",
       "      <td>0</td>\n",
       "      <td>Orlando</td>\n",
       "      <td>2000-05-01</td>\n",
       "      <td>A</td>\n",
       "      <td>Clay</td>\n",
       "      <td>2</td>\n",
       "      <td>3.0</td>\n",
       "      <td>R32</td>\n",
       "    </tr>\n",
       "    <tr>\n",
       "      <th>2</th>\n",
       "      <td>2</td>\n",
       "      <td>0</td>\n",
       "      <td>Orlando</td>\n",
       "      <td>2000-05-01</td>\n",
       "      <td>A</td>\n",
       "      <td>Clay</td>\n",
       "      <td>3</td>\n",
       "      <td>3.0</td>\n",
       "      <td>R32</td>\n",
       "    </tr>\n",
       "    <tr>\n",
       "      <th>3</th>\n",
       "      <td>3</td>\n",
       "      <td>0</td>\n",
       "      <td>Orlando</td>\n",
       "      <td>2000-05-01</td>\n",
       "      <td>A</td>\n",
       "      <td>Clay</td>\n",
       "      <td>4</td>\n",
       "      <td>3.0</td>\n",
       "      <td>R32</td>\n",
       "    </tr>\n",
       "    <tr>\n",
       "      <th>4</th>\n",
       "      <td>4</td>\n",
       "      <td>0</td>\n",
       "      <td>Orlando</td>\n",
       "      <td>2000-05-01</td>\n",
       "      <td>A</td>\n",
       "      <td>Clay</td>\n",
       "      <td>5</td>\n",
       "      <td>3.0</td>\n",
       "      <td>R32</td>\n",
       "    </tr>\n",
       "  </tbody>\n",
       "</table>\n",
       "</div>"
      ]
     },
     "execution_count": 53,
     "metadata": {},
     "output_type": "execute_result"
    }
   ],
   "execution_count": 53
  },
  {
   "metadata": {},
   "cell_type": "markdown",
   "source": "Look at data types and unique values.",
   "id": "c7e835040fcc15b"
  },
  {
   "metadata": {
    "ExecuteTime": {
     "end_time": "2024-06-19T07:13:52.174923Z",
     "start_time": "2024-06-19T07:13:52.168284Z"
    }
   },
   "cell_type": "code",
   "source": "match_info_df.dtypes",
   "id": "3268f89984bf40f7",
   "outputs": [
    {
     "data": {
      "text/plain": [
       "match_id           int64\n",
       "tourney_id         int64\n",
       "tourney_name      object\n",
       "tourney_date      object\n",
       "tourney_level     object\n",
       "surface           object\n",
       "match_num          int64\n",
       "best_of          float64\n",
       "round             object\n",
       "dtype: object"
      ]
     },
     "execution_count": 54,
     "metadata": {},
     "output_type": "execute_result"
    }
   ],
   "execution_count": 54
  },
  {
   "metadata": {
    "ExecuteTime": {
     "end_time": "2024-06-19T07:13:52.613548Z",
     "start_time": "2024-06-19T07:13:52.607007Z"
    }
   },
   "cell_type": "code",
   "source": "match_info_df.tourney_level.unique()",
   "id": "e2082fd52995ca0",
   "outputs": [
    {
     "data": {
      "text/plain": [
       "array(['A', 'G', 'M', 'F', 'C', 'D'], dtype=object)"
      ]
     },
     "execution_count": 55,
     "metadata": {},
     "output_type": "execute_result"
    }
   ],
   "execution_count": 55
  },
  {
   "metadata": {
    "ExecuteTime": {
     "end_time": "2024-06-19T07:13:52.927874Z",
     "start_time": "2024-06-19T07:13:52.918407Z"
    }
   },
   "cell_type": "code",
   "source": "match_info_df.surface.unique()",
   "id": "b7f8efd6e7d5155d",
   "outputs": [
    {
     "data": {
      "text/plain": [
       "array(['Clay', 'Hard', 'Grass', 'Carpet'], dtype=object)"
      ]
     },
     "execution_count": 56,
     "metadata": {},
     "output_type": "execute_result"
    }
   ],
   "execution_count": 56
  },
  {
   "metadata": {
    "ExecuteTime": {
     "end_time": "2024-06-19T07:13:53.255398Z",
     "start_time": "2024-06-19T07:13:53.247937Z"
    }
   },
   "cell_type": "code",
   "source": "match_info_df['round'].unique()",
   "id": "2bf7a703ee1fb5a0",
   "outputs": [
    {
     "data": {
      "text/plain": [
       "array(['R32', 'R16', 'QF', 'SF', 'F', 'R128', 'R64', 'RR', 'BR'],\n",
       "      dtype=object)"
      ]
     },
     "execution_count": 57,
     "metadata": {},
     "output_type": "execute_result"
    }
   ],
   "execution_count": 57
  },
  {
   "metadata": {
    "ExecuteTime": {
     "end_time": "2024-06-19T07:13:53.564801Z",
     "start_time": "2024-06-19T07:13:53.556698Z"
    }
   },
   "cell_type": "code",
   "source": "match_info_df.best_of.unique()",
   "id": "884edd8378ba22ce",
   "outputs": [
    {
     "data": {
      "text/plain": [
       "array([3., 5.])"
      ]
     },
     "execution_count": 58,
     "metadata": {},
     "output_type": "execute_result"
    }
   ],
   "execution_count": 58
  },
  {
   "metadata": {},
   "cell_type": "markdown",
   "source": "Look at combination of (tourney_id, tourney_name). See if there is any tourney_id that has multiple tourney_name.",
   "id": "465616485343a952"
  },
  {
   "metadata": {
    "ExecuteTime": {
     "end_time": "2024-06-19T07:13:54.322327Z",
     "start_time": "2024-06-19T07:13:54.306345Z"
    }
   },
   "cell_type": "code",
   "source": [
    "tourney_id_group = match_info_df.groupby('tourney_id')['tourney_name'].nunique()\n",
    "print(f\"Number of tourney_id with multiple tourney_name: {len(tourney_id_group[tourney_id_group > 1])}\")"
   ],
   "id": "13312aa3dc5f34b8",
   "outputs": [
    {
     "name": "stdout",
     "output_type": "stream",
     "text": [
      "Number of tourney_id with multiple tourney_name: 0\n"
     ]
    }
   ],
   "execution_count": 59
  },
  {
   "metadata": {},
   "cell_type": "markdown",
   "source": "Use string similarity packages to check for similar tourney_name. (Multiple choices here but using `fuzzywuzzy` for now)",
   "id": "d3c50e448aa90523"
  },
  {
   "metadata": {
    "ExecuteTime": {
     "end_time": "2024-06-19T07:13:55.744556Z",
     "start_time": "2024-06-19T07:13:55.683667Z"
    }
   },
   "cell_type": "code",
   "source": "sorted_lower_tourney_names = match_info_df['tourney_name'].str.lower().sort_values().unique()",
   "id": "e73c10cad1835a1a",
   "outputs": [],
   "execution_count": 60
  },
  {
   "metadata": {
    "ExecuteTime": {
     "end_time": "2024-06-19T07:13:55.848741Z",
     "start_time": "2024-06-19T07:13:55.843250Z"
    }
   },
   "cell_type": "code",
   "source": "sorted_lower_tourney_names",
   "id": "ff2d008cda607b6f",
   "outputs": [
    {
     "data": {
      "text/plain": [
       "array([\"'s-hertogenbosch\", 'acapulco', 'adelaide', 'amersfoort',\n",
       "       'amsterdam', 'antwerp', 'atlanta', 'auckland', 'australian open',\n",
       "       'bangkok', 'barcelona', 'basel', 'bastad', 'beijing',\n",
       "       'beijing olympics', 'belgrade', 'bogota', 'brighton', 'brisbane',\n",
       "       'bucharest', 'buenos aires', 'canada masters', 'casablanca',\n",
       "       'chengdu', 'chennai', 'cincinnati masters', 'copenhagen',\n",
       "       'costa do sauipe', 'curitiba ch', 'davis cup g1 r1: bar vs ecu',\n",
       "       'davis cup g1 r1: chi vs dom', 'davis cup g1 r1: dom vs chi',\n",
       "       'davis cup g1 r1: hun vs isr', 'davis cup g1 r1: isr vs por',\n",
       "       'davis cup g1 r1: nzl vs ind', 'davis cup g1 r1: nzl vs kor',\n",
       "       'davis cup g1 r1: pak vs chn', 'davis cup g1 r1: per vs ecu',\n",
       "       'davis cup g1 r1: pol vs bih', 'davis cup g1 r1: por vs aut',\n",
       "       'davis cup g1 r1: rou vs blr', 'davis cup g1 r1: rou vs slo',\n",
       "       'davis cup g1 r1: rus vs swe', 'davis cup g1 r1: uzb vs kor',\n",
       "       'davis cup g1 r2: bra vs ecu', 'davis cup g1 r2: chi vs col',\n",
       "       'davis cup g1 r2: chn vs uzb', 'davis cup g1 r2: esp vs rou',\n",
       "       'davis cup g1 r2: hun vs svk', 'davis cup g1 r2: ind vs kor',\n",
       "       'davis cup g1 r2: rus vs ned', 'davis cup g1 r2: svk vs hun',\n",
       "       'davis cup g1 r2: ukr vs aut', 'davis cup g2 r1: bah vs ven',\n",
       "       'davis cup g2 r1: bar vs par', 'davis cup g2 r1: bih vs tun',\n",
       "       'davis cup g2 r1: bol vs esa', 'davis cup g2 r1: bul vs tur',\n",
       "       'davis cup g2 r1: egy vs blr', 'davis cup g2 r1: est vs rsa',\n",
       "       'davis cup g2 r1: fin vs geo', 'davis cup g2 r1: geo vs den',\n",
       "       'davis cup g2 r1: ina vs phi', 'davis cup g2 r1: kuw vs tha',\n",
       "       'davis cup g2 r1: ltu vs mad', 'davis cup g2 r1: ltu vs nor',\n",
       "       'davis cup g2 r1: mar vs den', 'davis cup g2 r1: mex vs gua',\n",
       "       'davis cup g2 r1: mon vs lat', 'davis cup g2 r1: mon vs slo',\n",
       "       'davis cup g2 r1: nor vs lat', 'davis cup g2 r1: pak vs iri',\n",
       "       'davis cup g2 r1: par vs ven', 'davis cup g2 r1: phi vs kuw',\n",
       "       'davis cup g2 r1: pur vs esa', 'davis cup g2 r1: rsa vs lux',\n",
       "       'davis cup g2 r1: sri vs tha', 'davis cup g2 r1: swe vs tun',\n",
       "       'davis cup g2 r1: tpe vs mas', 'davis cup g2 r1: tur vs cyp',\n",
       "       'davis cup g2 r1: vie vs hkg', 'davis cup g2 r1: vie vs ina',\n",
       "       'davis cup g2 r1: zim vs fin', 'davis cup g2 r2: esa vs ven',\n",
       "       'davis cup g2 r2: fin vs den', 'davis cup g2 r2: lat vs blr',\n",
       "       'davis cup g2 r2: ltu vs rsa', 'davis cup g2 r2: per vs mex',\n",
       "       'davis cup g2 r2: tpe vs phi', 'davis cup g2 r2: tur vs bih',\n",
       "       'davis cup g2 r2: vie vs tha', 'davis cup g2 r3: blr vs den',\n",
       "       'davis cup g2 r3: ltu vs bih', 'davis cup g2 r3: per vs ven',\n",
       "       'davis cup g2 r3: tpe vs tha', 'davis cup wg f: arg vs cro',\n",
       "       'davis cup wg po: aus vs svk', 'davis cup wg po: bel vs bra',\n",
       "       'davis cup wg po: can vs chi', 'davis cup wg po: esp vs ind',\n",
       "       'davis cup wg po: ger vs pol', 'davis cup wg po: jpn vs ukr',\n",
       "       'davis cup wg po: kaz vs rus', 'davis cup wg po: sui vs uzb',\n",
       "       'davis cup wg qf: fra vs cze', 'davis cup wg qf: gbr vs srb',\n",
       "       'davis cup wg qf: ita vs arg', 'davis cup wg qf: usa vs cro',\n",
       "       'davis cup wg r1: arg vs ita', 'davis cup wg r1: arg vs pol',\n",
       "       'davis cup wg r1: bel vs ger', 'davis cup wg r1: can vs fra',\n",
       "       'davis cup wg r1: can vs gbr', 'davis cup wg r1: cro vs bel',\n",
       "       'davis cup wg r1: cze vs aus', 'davis cup wg r1: esp vs cro',\n",
       "       'davis cup wg r1: gbr vs jpn', 'davis cup wg r1: ger vs cze',\n",
       "       'davis cup wg r1: jpn vs fra', 'davis cup wg r1: rus vs srb',\n",
       "       'davis cup wg r1: srb vs kaz', 'davis cup wg r1: sui vs ita',\n",
       "       'davis cup wg r1: sui vs usa', 'davis cup wg r1: usa vs aus',\n",
       "       'davis cup wg sf: fra vs cro', 'davis cup wg sf: gbr vs arg',\n",
       "       'delray beach', 'doha', 'dubai', 'dusseldorf', 'eastbourne',\n",
       "       'estoril', 'geneva', 'gstaad', 'halle', 'hamburg',\n",
       "       'hamburg masters', 'ho chi minh city', 'hong kong', 'houston',\n",
       "       'indian wells masters', 'indianapolis', 'istanbul', 'johannesburg',\n",
       "       'kitzbuhel', 'kuala lumpur', 'las vegas', 'london',\n",
       "       'london olympics', 'long island', 'los angeles', 'los cabos',\n",
       "       'lyon', 'madrid masters', 'mallorca', 'marrakech', 'marseille',\n",
       "       'masters cup', 'memphis', 'metz', 'mexico city', 'miami masters',\n",
       "       'milan', 'monte carlo masters', 'montpellier', 'moscow', 'mumbai',\n",
       "       'munich', 'new haven', 'newport', 'nice', 'nottingham', 'olympics',\n",
       "       'orlando', 'palermo', 'paris masters', 'poertschach',\n",
       "       'power horse cup', \"queen's club\", 'quito', 'rio de janeiro',\n",
       "       'roland garros', 'rome masters', 'rotterdam', 's-hertogenbosch',\n",
       "       'san jose', 'san marino', 'santiago', 'sao paulo', 'scottsdale',\n",
       "       'shanghai', 'shanghai masters', 'shenzhen', 'sofia', 'sopot',\n",
       "       'sopot - ws', 'st. petersburg', 'st. poelten', 'st.petersburg',\n",
       "       'stockholm', 'stuttgart', 'stuttgart masters', 'stuttgart outdoor',\n",
       "       'sydney', 'tashkent', 'tokyo', 'toulouse', 'tour finals', 'umag',\n",
       "       'us open', 'valencia', 'vienna', 'vina del mar', 'viña del mar',\n",
       "       'warsaw', 'washington', 'wimbledon', 'winston-salem', 'zagreb'],\n",
       "      dtype=object)"
      ]
     },
     "execution_count": 61,
     "metadata": {},
     "output_type": "execute_result"
    }
   ],
   "execution_count": 61
  },
  {
   "metadata": {},
   "cell_type": "markdown",
   "source": "We see a lot of repeated \"davis cup\" tournaments where the tournament name contains round and competitor information.  We will exclude these from our analysis.",
   "id": "ba9f7a9eea37b893"
  },
  {
   "metadata": {
    "ExecuteTime": {
     "end_time": "2024-06-19T07:14:28.751116Z",
     "start_time": "2024-06-19T07:14:28.676737Z"
    }
   },
   "cell_type": "code",
   "source": [
    "match_info_df = match_info_df[~match_info_df['tourney_name'].str.contains('davis cup', case=False)]\n",
    "sorted_lower_tourney_names = match_info_df['tourney_name'].str.lower().sort_values().unique()"
   ],
   "id": "32d8f9c8f94bf93d",
   "outputs": [],
   "execution_count": 62
  },
  {
   "metadata": {},
   "cell_type": "markdown",
   "source": "Set similarity threshold to 80",
   "id": "c735782ee44e8b66"
  },
  {
   "metadata": {
    "ExecuteTime": {
     "end_time": "2024-06-19T07:14:29.244759Z",
     "start_time": "2024-06-19T07:14:29.237872Z"
    }
   },
   "cell_type": "code",
   "source": "CHOSEN_THRESHOLD = 80",
   "id": "6a4bf0d54bf1585e",
   "outputs": [],
   "execution_count": 63
  },
  {
   "metadata": {
    "ExecuteTime": {
     "end_time": "2024-06-19T07:14:29.484806Z",
     "start_time": "2024-06-19T07:14:29.448738Z"
    }
   },
   "cell_type": "code",
   "source": [
    "similarity_results = []\n",
    "for name in sorted_lower_tourney_names:\n",
    "    candidates = [n for n in sorted_lower_tourney_names if n != name]\n",
    "    matches = process.extract(name, candidates, limit=len(candidates))\n",
    "    \n",
    "    for match in matches:\n",
    "        if match[1] >= CHOSEN_THRESHOLD:\n",
    "            similarity_results.append(\n",
    "                {\n",
    "                    'name': name,\n",
    "                    'match': match[0],\n",
    "                    'score': match[1]\n",
    "                }\n",
    "            )"
   ],
   "id": "8f38cf97c858cbf",
   "outputs": [],
   "execution_count": 64
  },
  {
   "metadata": {
    "ExecuteTime": {
     "end_time": "2024-06-19T07:14:29.764563Z",
     "start_time": "2024-06-19T07:14:29.751238Z"
    }
   },
   "cell_type": "code",
   "source": "similarity_results",
   "id": "975a6925ec35b096",
   "outputs": [
    {
     "data": {
      "text/plain": [
       "[{'name': \"'s-hertogenbosch\",\n",
       "  'match': 's-hertogenbosch',\n",
       "  'score': 96.7741935483871},\n",
       " {'name': 'australian open', 'match': 'us open', 'score': 85.5},\n",
       " {'name': 'beijing', 'match': 'beijing olympics', 'score': 90.0},\n",
       " {'name': 'beijing olympics', 'match': 'beijing', 'score': 90.0},\n",
       " {'name': 'beijing olympics', 'match': 'olympics', 'score': 90.0},\n",
       " {'name': 'cincinnati masters', 'match': 'masters cup', 'score': 85.5},\n",
       " {'name': 'cincinnati masters', 'match': 'rome masters', 'score': 85.5},\n",
       " {'name': 'hamburg', 'match': 'hamburg masters', 'score': 90.0},\n",
       " {'name': 'hamburg masters', 'match': 'hamburg', 'score': 90.0},\n",
       " {'name': 'indian wells masters', 'match': 'masters cup', 'score': 85.5},\n",
       " {'name': 'indian wells masters', 'match': 'miami masters', 'score': 85.5},\n",
       " {'name': 'indian wells masters', 'match': 'paris masters', 'score': 85.5},\n",
       " {'name': 'indian wells masters', 'match': 'rome masters', 'score': 85.5},\n",
       " {'name': 'london', 'match': 'london olympics', 'score': 90.0},\n",
       " {'name': 'london olympics', 'match': 'london', 'score': 90.0},\n",
       " {'name': 'london olympics', 'match': 'olympics', 'score': 90.0},\n",
       " {'name': 'madrid masters',\n",
       "  'match': 'miami masters',\n",
       "  'score': 81.4814814814815},\n",
       " {'name': 'madrid masters',\n",
       "  'match': 'paris masters',\n",
       "  'score': 81.4814814814815},\n",
       " {'name': 'masters cup', 'match': 'cincinnati masters', 'score': 85.5},\n",
       " {'name': 'masters cup', 'match': 'indian wells masters', 'score': 85.5},\n",
       " {'name': 'masters cup', 'match': 'monte carlo masters', 'score': 85.5},\n",
       " {'name': 'masters cup', 'match': 'stuttgart masters', 'score': 85.5},\n",
       " {'name': 'miami masters', 'match': 'indian wells masters', 'score': 85.5},\n",
       " {'name': 'miami masters',\n",
       "  'match': 'madrid masters',\n",
       "  'score': 81.4814814814815},\n",
       " {'name': 'monte carlo masters', 'match': 'masters cup', 'score': 85.5},\n",
       " {'name': 'monte carlo masters', 'match': 'rome masters', 'score': 85.5},\n",
       " {'name': 'olympics', 'match': 'beijing olympics', 'score': 90.0},\n",
       " {'name': 'olympics', 'match': 'london olympics', 'score': 90.0},\n",
       " {'name': 'paris masters', 'match': 'indian wells masters', 'score': 85.5},\n",
       " {'name': 'paris masters',\n",
       "  'match': 'madrid masters',\n",
       "  'score': 81.4814814814815},\n",
       " {'name': 'rome masters', 'match': 'cincinnati masters', 'score': 85.5},\n",
       " {'name': 'rome masters', 'match': 'indian wells masters', 'score': 85.5},\n",
       " {'name': 'rome masters', 'match': 'monte carlo masters', 'score': 85.5},\n",
       " {'name': 's-hertogenbosch',\n",
       "  'match': \"'s-hertogenbosch\",\n",
       "  'score': 96.7741935483871},\n",
       " {'name': 'shanghai', 'match': 'shanghai masters', 'score': 90.0},\n",
       " {'name': 'shanghai masters', 'match': 'shanghai', 'score': 90.0},\n",
       " {'name': 'sopot', 'match': 'sopot - ws', 'score': 90.0},\n",
       " {'name': 'sopot - ws', 'match': 'sopot', 'score': 90.0},\n",
       " {'name': 'st. petersburg',\n",
       "  'match': 'st.petersburg',\n",
       "  'score': 96.2962962962963},\n",
       " {'name': 'st.petersburg',\n",
       "  'match': 'st. petersburg',\n",
       "  'score': 96.2962962962963},\n",
       " {'name': 'stuttgart', 'match': 'stuttgart masters', 'score': 90.0},\n",
       " {'name': 'stuttgart', 'match': 'stuttgart outdoor', 'score': 90.0},\n",
       " {'name': 'stuttgart masters', 'match': 'stuttgart', 'score': 90.0},\n",
       " {'name': 'stuttgart masters', 'match': 'masters cup', 'score': 85.5},\n",
       " {'name': 'stuttgart outdoor', 'match': 'stuttgart', 'score': 90.0},\n",
       " {'name': 'us open', 'match': 'australian open', 'score': 85.5},\n",
       " {'name': 'vina del mar', 'match': 'viña del mar', 'score': 91.66666666666666},\n",
       " {'name': 'viña del mar', 'match': 'vina del mar', 'score': 91.66666666666666}]"
      ]
     },
     "execution_count": 65,
     "metadata": {},
     "output_type": "execute_result"
    }
   ],
   "execution_count": 65
  },
  {
   "metadata": {},
   "cell_type": "markdown",
   "source": "### Action",
   "id": "adf7c016ba6841c8"
  },
  {
   "metadata": {},
   "cell_type": "markdown",
   "source": [
    "- There are a lot of close \"matches\" that look genuine, i.e, containing extra spaces or foreign characters. These should be mapped to the correct name & id.\n",
    "- There are some that require further manual inspection.\n",
    "- The Davis cup entries require further processing and cleaning."
   ],
   "id": "1387f0affbe00809"
  },
  {
   "metadata": {},
   "cell_type": "markdown",
   "source": "## Match Outcome Stats",
   "id": "5d795c71a72f1ee0"
  },
  {
   "metadata": {
    "ExecuteTime": {
     "end_time": "2024-06-19T07:16:36.367803Z",
     "start_time": "2024-06-19T07:16:36.357457Z"
    }
   },
   "cell_type": "code",
   "source": "match_outcome_stats_df.head()",
   "id": "87ef76388eec739d",
   "outputs": [
    {
     "data": {
      "text/plain": [
       "   match_id              score  minutes\n",
       "0         0  3-6 7-6(6) 7-6(4)    162.0\n",
       "1         1            6-2 7-5     86.0\n",
       "2         2            6-1 6-3     64.0\n",
       "3         3        4-6 6-2 7-5    150.0\n",
       "4         4            6-1 6-4     60.0"
      ],
      "text/html": [
       "<div>\n",
       "<style scoped>\n",
       "    .dataframe tbody tr th:only-of-type {\n",
       "        vertical-align: middle;\n",
       "    }\n",
       "\n",
       "    .dataframe tbody tr th {\n",
       "        vertical-align: top;\n",
       "    }\n",
       "\n",
       "    .dataframe thead th {\n",
       "        text-align: right;\n",
       "    }\n",
       "</style>\n",
       "<table border=\"1\" class=\"dataframe\">\n",
       "  <thead>\n",
       "    <tr style=\"text-align: right;\">\n",
       "      <th></th>\n",
       "      <th>match_id</th>\n",
       "      <th>score</th>\n",
       "      <th>minutes</th>\n",
       "    </tr>\n",
       "  </thead>\n",
       "  <tbody>\n",
       "    <tr>\n",
       "      <th>0</th>\n",
       "      <td>0</td>\n",
       "      <td>3-6 7-6(6) 7-6(4)</td>\n",
       "      <td>162.0</td>\n",
       "    </tr>\n",
       "    <tr>\n",
       "      <th>1</th>\n",
       "      <td>1</td>\n",
       "      <td>6-2 7-5</td>\n",
       "      <td>86.0</td>\n",
       "    </tr>\n",
       "    <tr>\n",
       "      <th>2</th>\n",
       "      <td>2</td>\n",
       "      <td>6-1 6-3</td>\n",
       "      <td>64.0</td>\n",
       "    </tr>\n",
       "    <tr>\n",
       "      <th>3</th>\n",
       "      <td>3</td>\n",
       "      <td>4-6 6-2 7-5</td>\n",
       "      <td>150.0</td>\n",
       "    </tr>\n",
       "    <tr>\n",
       "      <th>4</th>\n",
       "      <td>4</td>\n",
       "      <td>6-1 6-4</td>\n",
       "      <td>60.0</td>\n",
       "    </tr>\n",
       "  </tbody>\n",
       "</table>\n",
       "</div>"
      ]
     },
     "execution_count": 66,
     "metadata": {},
     "output_type": "execute_result"
    }
   ],
   "execution_count": 66
  },
  {
   "metadata": {
    "ExecuteTime": {
     "end_time": "2024-06-19T07:53:54.808636Z",
     "start_time": "2024-06-19T07:53:54.014687Z"
    }
   },
   "cell_type": "code",
   "source": [
    "def parse_scores(score):\n",
    "    sets = score.split(' ')\n",
    "    parsed_sets = {}\n",
    "    match_ended = False\n",
    "\n",
    "    # Filter out any empty strings resulting from splitting the score\n",
    "    sets = [set_score for set_score in sets if set_score.strip()]\n",
    "\n",
    "    try:\n",
    "        for i, set_score in enumerate(sets, 1):\n",
    "            set_score = set_score.strip()  # Strip any leading/trailing whitespace\n",
    "            if set_score in ['RET', 'DEF','W/O']:\n",
    "                parsed_sets[f'set_{i}_p1'] = set_score\n",
    "                parsed_sets[f'set_{i}_p2'] = set_score\n",
    "                parsed_sets[f'set_{i}_winner'] = set_score\n",
    "                match_ended = True\n",
    "                break\n",
    "            else:\n",
    "                tiebreaker = None\n",
    "                if '(' in set_score:\n",
    "                    set_score, tiebreaker = set_score.split('(')\n",
    "                    set_score = set_score.strip()\n",
    "                    tiebreaker = tiebreaker.replace(')', '').strip()\n",
    "                p1, p2 = set_score.split('-')\n",
    "                parsed_sets[f'set_{i}_p1'] = int(p1)\n",
    "                parsed_sets[f'set_{i}_p2'] = int(p2)\n",
    "                if tiebreaker:\n",
    "                    parsed_sets[f'set_{i}_tiebreaker'] = int(tiebreaker)\n",
    "                parsed_sets[f'set_{i}_winner'] = 'p1' if int(p1) > int(p2) else 'p2'\n",
    "        \n",
    "        # Ensure all five sets are represented and handle cases where match ends early\n",
    "        for i in range(1, 5):\n",
    "            if f'set_{i}_p1' not in parsed_sets:\n",
    "                parsed_sets[f'set_{i}_p1'] = 'RET' if match_ended and i > len(sets) else None\n",
    "            if f'set_{i}_p2' not in parsed_sets:\n",
    "                parsed_sets[f'set_{i}_p2'] = 'RET' if match_ended and i > len(sets) else None\n",
    "            if f'set_{i}_winner' not in parsed_sets:\n",
    "                parsed_sets[f'set_{i}_winner'] = 'RET' if match_ended and i > len(sets) else None\n",
    "            if f'set_{i}_tiebreaker' not in parsed_sets:\n",
    "                parsed_sets[f'set_{i}_tiebreaker'] = None\n",
    "\n",
    "        # Determine if the match was completed\n",
    "        parsed_sets['match_completed'] = not match_ended\n",
    "\n",
    "    except Exception as e:\n",
    "        print(f\"Error parsing score '{score}': {e}\")\n",
    "        return None\n",
    "    \n",
    "    return parsed_sets\n",
    "\n",
    "def parse_scores(score):\n",
    "    sets = score.split(' ')\n",
    "    parsed_sets = {}\n",
    "    match_ended = False\n",
    "    completion_status = True\n",
    "\n",
    "    # Filter out any empty strings resulting from splitting the score\n",
    "    sets = [set_score.strip() for set_score in sets if set_score.strip()]\n",
    "\n",
    "    try:\n",
    "        for i, set_score in enumerate(sets, 1):\n",
    "            if set_score in {'RET', 'DEF', 'W/O'}:\n",
    "                parsed_sets[f'set_{i}_p1'] = set_score\n",
    "                parsed_sets[f'set_{i}_p2'] = set_score\n",
    "                parsed_sets[f'set_{i}_winner'] = set_score\n",
    "                match_ended = True\n",
    "                completion_status = False\n",
    "                break\n",
    "            else:\n",
    "                tiebreaker = None\n",
    "                if '(' in set_score:\n",
    "                    set_score, tiebreaker = set_score.split('(')\n",
    "                    set_score = set_score.strip()\n",
    "                    tiebreaker = tiebreaker.replace(')', '').strip()\n",
    "                p1, p2 = map(int, set_score.split('-'))\n",
    "                parsed_sets[f'set_{i}_p1'] = p1\n",
    "                parsed_sets[f'set_{i}_p2'] = p2\n",
    "                if tiebreaker:\n",
    "                    parsed_sets[f'set_{i}_tiebreaker'] = int(tiebreaker)\n",
    "                parsed_sets[f'set_{i}_winner'] = 'p1' if p1 > p2 else 'p2'\n",
    "        \n",
    "        # Ensure all five sets are represented and handle cases where match ends early\n",
    "        for i in range(1, 5):\n",
    "            if f'set_{i}_p1' not in parsed_sets:\n",
    "                parsed_sets[f'set_{i}_p1'] = 'RET' if match_ended else None\n",
    "            if f'set_{i}_p2' not in parsed_sets:\n",
    "                parsed_sets[f'set_{i}_p2'] = 'RET' if match_ended else None\n",
    "            if f'set_{i}_winner' not in parsed_sets:\n",
    "                parsed_sets[f'set_{i}_winner'] = 'RET' if match_ended else None\n",
    "            if f'set_{i}_tiebreaker' not in parsed_sets:\n",
    "                parsed_sets[f'set_{i}_tiebreaker'] = None\n",
    "\n",
    "        # Determine if the match was completed\n",
    "        parsed_sets['match_completed'] = completion_status\n",
    "\n",
    "    except Exception as e:\n",
    "        print(f\"Error parsing score '{score}': {e}\")\n",
    "        return None\n",
    "    \n",
    "    return parsed_sets\n",
    "\n",
    "# Define a function to parse the scores and determine the winner for each set\n",
    "def parse_scores(score):\n",
    "    sets = score.split(' ')\n",
    "    parsed_sets = {}\n",
    "    match_ended = False\n",
    "    completion_status = True\n",
    "\n",
    "    # Filter out any empty strings resulting from splitting the score\n",
    "    sets = [set_score.strip() for set_score in sets if set_score.strip()]\n",
    "\n",
    "    p1_set_wins = 0\n",
    "    p2_set_wins = 0\n",
    "\n",
    "    try:\n",
    "        for i, set_score in enumerate(sets, 1):\n",
    "            if set_score in {'RET', 'DEF', 'W/O'}:\n",
    "                parsed_sets[f'set_{i}_p1'] = set_score\n",
    "                parsed_sets[f'set_{i}_p2'] = set_score\n",
    "                parsed_sets[f'set_{i}_winner'] = set_score\n",
    "                match_ended = True\n",
    "                completion_status = False\n",
    "                break\n",
    "            else:\n",
    "                tiebreaker = None\n",
    "                if '(' in set_score:\n",
    "                    set_score, tiebreaker = set_score.split('(')\n",
    "                    set_score = set_score.strip()\n",
    "                    tiebreaker = tiebreaker.replace(')', '').strip()\n",
    "                p1, p2 = map(int, set_score.split('-'))\n",
    "                parsed_sets[f'set_{i}_p1'] = p1\n",
    "                parsed_sets[f'set_{i}_p2'] = p2\n",
    "                if tiebreaker:\n",
    "                    parsed_sets[f'set_{i}_tiebreaker'] = int(tiebreaker)\n",
    "                if p1 > p2:\n",
    "                    parsed_sets[f'set_{i}_winner'] = 'p1'\n",
    "                    p1_set_wins += 1\n",
    "                else:\n",
    "                    parsed_sets[f'set_{i}_winner'] = 'p2'\n",
    "                    p2_set_wins += 1\n",
    "        \n",
    "        # Ensure all five sets are represented and handle cases where match ends early\n",
    "        for i in range(1, 5):\n",
    "            if f'set_{i}_p1' not in parsed_sets:\n",
    "                parsed_sets[f'set_{i}_p1'] = 'RET' if match_ended else None\n",
    "            if f'set_{i}_p2' not in parsed_sets:\n",
    "                parsed_sets[f'set_{i}_p2'] = 'RET' if match_ended else None\n",
    "            if f'set_{i}_winner' not in parsed_sets:\n",
    "                parsed_sets[f'set_{i}_winner'] = 'RET' if match_ended else None\n",
    "            if f'set_{i}_tiebreaker' not in parsed_sets:\n",
    "                parsed_sets[f'set_{i}_tiebreaker'] = None\n",
    "\n",
    "        # Determine if the match was completed\n",
    "        parsed_sets['match_completed'] = completion_status\n",
    "\n",
    "        # Determine the overall winner\n",
    "        if completion_status:\n",
    "            if p1_set_wins > p2_set_wins:\n",
    "                parsed_sets['match_winner'] = 'p1'\n",
    "            else:\n",
    "                parsed_sets['match_winner'] = 'p2'\n",
    "\n",
    "    except Exception as e:\n",
    "        print(f\"Error parsing score '{score}': {e}\")\n",
    "        return None\n",
    "    \n",
    "    return parsed_sets\n",
    "# Apply the parsing function to the score column\n",
    "parsed_scores = match_outcome_stats_df['score'].apply(parse_scores)\n",
    "\n",
    "# Remove rows with parsing errors\n",
    "df = match_outcome_stats_df[parsed_scores.notnull()]\n",
    "\n",
    "# Convert the parsed scores to a DataFrame and merge with the original DataFrame\n",
    "parsed_scores_df = pd.DataFrame(parsed_scores.dropna().tolist())\n",
    "df = df.join(parsed_scores_df)\n",
    "\n",
    "# Drop the original score column\n",
    "df.drop(columns=['score'], inplace=True)"
   ],
   "id": "1c758bfc9b924b7d",
   "outputs": [
    {
     "name": "stdout",
     "output_type": "stream",
     "text": [
      "Error parsing score '3-Jun': invalid literal for int() with base 10: 'Jun'\n"
     ]
    }
   ],
   "execution_count": 99
  },
  {
   "metadata": {
    "ExecuteTime": {
     "end_time": "2024-06-21T05:01:17.277695Z",
     "start_time": "2024-06-21T05:01:16.515187Z"
    }
   },
   "cell_type": "code",
   "source": [
    "\n",
    "import pandas as pd\n",
    "from typing import Any, Dict, Optional, Union\n",
    "\n",
    "def parse_set_score(set_score: str) -> Dict[str, Union[int, str, None]]:\n",
    "    \"\"\"\n",
    "    Parse a single set score and extract points for player 1 and player 2,\n",
    "    as well as tiebreaker points if present.\n",
    "\n",
    "    Parameters:\n",
    "    - set_score (str): The set score to parse.\n",
    "\n",
    "    Returns:\n",
    "    - Dict[str, Union[int, str, None]]: A dictionary containing the parsed set score details.\n",
    "    \"\"\"\n",
    "    set_score = set_score.strip()\n",
    "    if set_score in {'RET', 'DEF', 'W/O'}:\n",
    "        return {\n",
    "            'p1': set_score,\n",
    "            'p2': set_score,\n",
    "            'winner': set_score,\n",
    "            'tiebreaker': None\n",
    "        }\n",
    "    tiebreaker = None\n",
    "    if '(' in set_score:\n",
    "        set_score, tiebreaker = set_score.split('(')\n",
    "        set_score = set_score.strip()\n",
    "        tiebreaker = int(tiebreaker.replace(')', '').strip())\n",
    "    p1, p2 = map(int, set_score.split('-'))\n",
    "    winner = 'p1' if p1 > p2 else 'p2'\n",
    "    return {\n",
    "        'p1': p1,\n",
    "        'p2': p2,\n",
    "        'winner': winner,\n",
    "        'tiebreaker': tiebreaker\n",
    "    }\n",
    "\n",
    "def parse_scores(score: str) -> Optional[Dict[str, Any]]:\n",
    "    \"\"\"\n",
    "    Parse the match score string into a structured format.\n",
    "\n",
    "    Parameters:\n",
    "    - score (str): The score string to parse.\n",
    "\n",
    "    Returns:\n",
    "    - Optional[Dict[str, Any]]: A dictionary containing the parsed match details,\n",
    "      or None if the parsing failed.\n",
    "    \"\"\"\n",
    "    sets = [set_score.strip() for set_score in score.split(' ') if set_score.strip()]\n",
    "    parsed_sets: Dict[str, Any] = {}\n",
    "    match_ended = False\n",
    "    p1_set_wins = 0\n",
    "    p2_set_wins = 0\n",
    "\n",
    "    try:\n",
    "        for i, set_score in enumerate(sets, 1):\n",
    "            if i>5:\n",
    "                print(f\"Error parsing score '{score}': More than 5 sets\")\n",
    "            set_result = parse_set_score(set_score)\n",
    "            parsed_sets[f'set_{i}_p1'] = set_result['p1']\n",
    "            parsed_sets[f'set_{i}_p2'] = set_result['p2']\n",
    "            parsed_sets[f'set_{i}_tiebreaker'] = set_result['tiebreaker']\n",
    "            parsed_sets[f'set_{i}_winner'] = set_result['winner']\n",
    "            if set_result['winner'] in {'RET', 'DEF', 'W/O'}:\n",
    "                match_ended = True\n",
    "                break\n",
    "            elif set_result['winner'] == 'p1':\n",
    "                p1_set_wins += 1\n",
    "            elif set_result['winner'] == 'p2':\n",
    "                p2_set_wins += 1\n",
    "\n",
    "        # Ensure all five sets are represented and handle cases where match ends early\n",
    "        for i in range(1, 5):\n",
    "            parsed_sets.setdefault(f'set_{i}_p1', 'RET' if match_ended else None)\n",
    "            parsed_sets.setdefault(f'set_{i}_p2', 'RET' if match_ended else None)\n",
    "            parsed_sets.setdefault(f'set_{i}_winner', 'RET' if match_ended else None)\n",
    "            parsed_sets.setdefault(f'set_{i}_tiebreaker', None)\n",
    "\n",
    "        # Determine if the match was completed\n",
    "        parsed_sets['match_completed'] = not match_ended\n",
    "\n",
    "        # Determine the overall winner if the match was completed\n",
    "        if not match_ended:\n",
    "            if p1_set_wins > p2_set_wins:\n",
    "                parsed_sets['match_winner'] = 'p1'\n",
    "            elif p2_set_wins > p1_set_wins:\n",
    "                parsed_sets['match_winner'] = 'p2'\n",
    "            else:\n",
    "                parsed_sets['match_winner'] = None\n",
    "        else:\n",
    "            parsed_sets['match_winner'] = None\n",
    "\n",
    "    except Exception as e:\n",
    "        print(f\"Error parsing score '{score}': {e}\")\n",
    "        return None\n",
    "\n",
    "    return parsed_sets\n",
    "\n",
    "def process_match_scores(df: pd.DataFrame) -> pd.DataFrame:\n",
    "    \"\"\"\n",
    "    Process the match scores in the DataFrame and add structured match details.\n",
    "\n",
    "    Parameters:\n",
    "    - df (pd.DataFrame): The DataFrame containing match scores.\n",
    "\n",
    "    Returns:\n",
    "    - pd.DataFrame: The DataFrame with structured match details added.\n",
    "    \"\"\"\n",
    "    parsed_scores = df['score'].apply(parse_scores)\n",
    "    \n",
    "    # Remove rows with parsing errors\n",
    "    parsed_scores = parsed_scores.dropna()\n",
    "    \n",
    "    # Convert the parsed scores to a DataFrame and merge with the original DataFrame\n",
    "    parsed_scores_df = pd.DataFrame(parsed_scores.tolist())\n",
    "    df = df.loc[parsed_scores.index].join(parsed_scores_df)\n",
    "    df.drop(columns=['score'], inplace=True)\n",
    "    return df\n",
    "\n",
    "\n",
    "# Process the match scores\n",
    "df = process_match_scores(match_outcome_stats_df)\n",
    "\n",
    "# Display the resulting DataFrame\n",
    "print(df)\n",
    "\n"
   ],
   "id": "62cdb27247da1a1c",
   "outputs": [
    {
     "name": "stdout",
     "output_type": "stream",
     "text": [
      "Error parsing score '4-6 4-6 6-3 7-5 3-4 RET': More than 5 sets\n",
      "Error parsing score '4-6 6-2 6-2 4-6 0-1 RET': More than 5 sets\n",
      "Error parsing score '7-5 4-6 5-7 6-3 5-0 RET': More than 5 sets\n",
      "Error parsing score '6-4 6-2 6-7(5) 3-6 2-1 RET': More than 5 sets\n",
      "Error parsing score '2-6 6-7(3) 6-4 7-6(4) 0-1 RET': More than 5 sets\n",
      "Error parsing score '4-6 6-3 7-6(3) 5-7 3-2 RET': More than 5 sets\n",
      "Error parsing score '7-6(4) 4-6 3-6 7-6(9) 1-0 RET': More than 5 sets\n",
      "Error parsing score '1-6 6-3 3-6 7-6(5) 4-1 RET': More than 5 sets\n",
      "Error parsing score '6-7(5) 6-3 6-1 6-7(4) 3-0 RET': More than 5 sets\n",
      "Error parsing score '4-6 6-3 3-6 6-0 3-0 RET': More than 5 sets\n",
      "Error parsing score '6-7(5) 4-6 7-6(2) 6-0 2-1 RET': More than 5 sets\n",
      "Error parsing score '7-6(7) 4-6 6-7(3) 6-4 4-0 RET': More than 5 sets\n",
      "Error parsing score '3-Jun': invalid literal for int() with base 10: 'Jun'\n",
      "Error parsing score '6-7(7) 6-7(3) 7-6(7) 6-3 3-0 RET': More than 5 sets\n",
      "Error parsing score '6-2 3-6 4-6 7-6(2) 5-4 RET': More than 5 sets\n",
      "Error parsing score '4-6 6-7(6) 7-6(3) 6-3 2-1 RET': More than 5 sets\n",
      "Error parsing score '6-4 6-2 4-6 3-6 4-3 RET': More than 5 sets\n",
      "Error parsing score '1-6 7-5 2-6 6-4 1-1 RET': More than 5 sets\n",
      "Error parsing score '4-6 6-1 4-6 6-3 2-0 RET': More than 5 sets\n",
      "Error parsing score '3-6 4-6 7-5 6-4 3-0 RET': More than 5 sets\n",
      "Error parsing score '6-1 3-6 6-4 3-6 5-2 RET': More than 5 sets\n",
      "Error parsing score '7-6(2) 6-2 1-6 6-7(6) 5-5 RET': More than 5 sets\n",
      "Error parsing score '6-1 3-6 6-7(4) 6-1 1-0 RET': More than 5 sets\n",
      "Error parsing score '6-0 3-6 3-6 6-2 3-0 RET': More than 5 sets\n",
      "Error parsing score '3-6 2-6 6-2 6-1 1-1 RET': More than 5 sets\n",
      "       match_id  minutes set_1_p1 set_1_p2  set_1_tiebreaker set_1_winner  \\\n",
      "0             0    162.0        3        6               NaN           p2   \n",
      "1             1     86.0        6        2               NaN           p1   \n",
      "2             2     64.0        6        1               NaN           p1   \n",
      "3             3    150.0        4        6               NaN           p2   \n",
      "4             4     60.0        6        1               NaN           p1   \n",
      "...         ...      ...      ...      ...               ...          ...   \n",
      "47735     47735    136.0        6        4               NaN           p1   \n",
      "47736     47736    118.0        4        6               NaN           p2   \n",
      "47737     47737    164.0        6        3               NaN           p1   \n",
      "47738     47738     73.0        6        4               NaN           p1   \n",
      "47739     47739     60.0      NaN      NaN               NaN          NaN   \n",
      "\n",
      "      set_2_p1 set_2_p2  set_2_tiebreaker set_2_winner  ... match_completed  \\\n",
      "0            7        6               6.0           p1  ...            True   \n",
      "1            7        5               NaN           p1  ...            True   \n",
      "2            6        3               NaN           p1  ...            True   \n",
      "3            6        2               NaN           p1  ...            True   \n",
      "4            6        4               NaN           p1  ...            True   \n",
      "...        ...      ...               ...          ...  ...             ...   \n",
      "47735        6        3               NaN           p1  ...            True   \n",
      "47736        6        2               NaN           p1  ...            True   \n",
      "47737        7        5               NaN           p1  ...            True   \n",
      "47738        6        3               NaN           p1  ...            True   \n",
      "47739      NaN      NaN               NaN          NaN  ...             NaN   \n",
      "\n",
      "      match_winner  set_5_p1 set_5_p2 set_5_tiebreaker set_5_winner set_6_p1  \\\n",
      "0               p1       NaN      NaN              NaN          NaN      NaN   \n",
      "1               p1       NaN      NaN              NaN          NaN      NaN   \n",
      "2               p1       NaN      NaN              NaN          NaN      NaN   \n",
      "3               p1       NaN      NaN              NaN          NaN      NaN   \n",
      "4               p1       NaN      NaN              NaN          NaN      NaN   \n",
      "...            ...       ...      ...              ...          ...      ...   \n",
      "47735           p1       NaN      NaN              NaN          NaN      NaN   \n",
      "47736           p1       NaN      NaN              NaN          NaN      NaN   \n",
      "47737           p1       NaN      NaN              NaN          NaN      NaN   \n",
      "47738           p1       NaN      NaN              NaN          NaN      NaN   \n",
      "47739          NaN       NaN      NaN              NaN          NaN      NaN   \n",
      "\n",
      "       set_6_p2 set_6_tiebreaker set_6_winner  \n",
      "0           NaN              NaN          NaN  \n",
      "1           NaN              NaN          NaN  \n",
      "2           NaN              NaN          NaN  \n",
      "3           NaN              NaN          NaN  \n",
      "4           NaN              NaN          NaN  \n",
      "...         ...              ...          ...  \n",
      "47735       NaN              NaN          NaN  \n",
      "47736       NaN              NaN          NaN  \n",
      "47737       NaN              NaN          NaN  \n",
      "47738       NaN              NaN          NaN  \n",
      "47739       NaN              NaN          NaN  \n",
      "\n",
      "[47739 rows x 28 columns]\n"
     ]
    }
   ],
   "execution_count": 111
  },
  {
   "metadata": {
    "ExecuteTime": {
     "end_time": "2024-06-21T04:53:50.411295Z",
     "start_time": "2024-06-21T04:53:49.687237Z"
    }
   },
   "cell_type": "code",
   "source": [
    "df = match_outcome_stats_df.copy()\n",
    "# Apply the parsing function to the score column\n",
    "parsed_scores = df['score'].apply(parse_scores)\n",
    "parsed_scores_df = pd.DataFrame(parsed_scores.dropna().tolist())"
   ],
   "id": "34af052293ac2d6b",
   "outputs": [
    {
     "name": "stdout",
     "output_type": "stream",
     "text": [
      "Error parsing score '3-Jun': invalid literal for int() with base 10: 'Jun'\n"
     ]
    }
   ],
   "execution_count": 104
  },
  {
   "metadata": {},
   "cell_type": "code",
   "outputs": [],
   "execution_count": null,
   "source": "",
   "id": "cf061d642faa3b2e"
  },
  {
   "metadata": {
    "ExecuteTime": {
     "end_time": "2024-06-19T07:49:39.414236Z",
     "start_time": "2024-06-19T07:49:39.403091Z"
    }
   },
   "cell_type": "code",
   "source": "df['match_completed'].value_counts()",
   "id": "e1c043884d136ad5",
   "outputs": [
    {
     "data": {
      "text/plain": [
       "match_completed\n",
       "True     46199\n",
       "False     1539\n",
       "Name: count, dtype: int64"
      ]
     },
     "execution_count": 91,
     "metadata": {},
     "output_type": "execute_result"
    }
   ],
   "execution_count": 91
  },
  {
   "metadata": {},
   "cell_type": "markdown",
   "source": "### Issues",
   "id": "2afa5c416aeae4a7"
  },
  {
   "metadata": {},
   "cell_type": "markdown",
   "source": [
    "- We don't know the rules so for tiebreaks, we don't know how many points the winning player obtained, i.e. 7, 10 etc.\n",
    "- We don't know which player Retires or Defaults.\n",
    "- We don't know rules on final set so cannot do any validation, i.e. is final set a tiebreak or continue until 2 game lead."
   ],
   "id": "bf32ada6d2dda705"
  }
 ],
 "metadata": {
  "kernelspec": {
   "display_name": "Python 3",
   "language": "python",
   "name": "python3"
  },
  "language_info": {
   "codemirror_mode": {
    "name": "ipython",
    "version": 2
   },
   "file_extension": ".py",
   "mimetype": "text/x-python",
   "name": "python",
   "nbconvert_exporter": "python",
   "pygments_lexer": "ipython2",
   "version": "2.7.6"
  }
 },
 "nbformat": 4,
 "nbformat_minor": 5
}
